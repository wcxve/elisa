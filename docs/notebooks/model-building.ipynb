{
 "cells": [
  {
   "cell_type": "markdown",
   "id": "0",
   "metadata": {},
   "source": [
    "(model-building)="
   ]
  },
  {
   "cell_type": "markdown",
   "id": "1",
   "metadata": {},
   "source": [
    "# Model Building\n",
    "\n",
    "The modeling framework of ``ELISA`` is designed to be flexible, allowing you\n",
    "to construct arbitrarily complex models by combining models from ELISA or\n",
    "Xspec, as well as your custom models. Links between parameters\n",
    "across different model components can also be established. These models can\n",
    "then be fitted to the spectral datasets."
   ]
  },
  {
   "cell_type": "markdown",
   "id": "2",
   "metadata": {},
   "source": [
    "## The Model Interface\n",
    "\n",
    "In the context of X/$\\gamma$-ray spectral fitting, a spectral model is a\n",
    "photon flux model. The model may be composed by a single flux component, or\n",
    "many additive flux components, and these additive components can be further\n",
    "modified by multiplicative or convolution components. You can check\n",
    "``ELISA``'s built-in model components from the {ref}`api`:\n",
    "\n",
    "- [additive](#elisa.models.add)\n",
    "- [multiplicative](#elisa.models.mul)\n",
    "- [convolution](#elisa.models.conv)\n",
    "\n",
    "### Create a Model\n",
    "To use the spectral models in ``ELISA``, you can run the following code to import\n",
    "all model classes of three types from the ``elisa.models`` module:"
   ]
  },
  {
   "cell_type": "code",
   "execution_count": null,
   "id": "3",
   "metadata": {},
   "outputs": [],
   "source": [
    "from elisa.models import *"
   ]
  },
  {
   "cell_type": "markdown",
   "id": "4",
   "metadata": {},
   "source": [
    "After the import, you can create an instance of a model by calling the model\n",
    "class. For example, the following code creates a [`PowerLaw`](#elisa.models.add.PowerLaw)\n",
    "photon flux model:"
   ]
  },
  {
   "cell_type": "code",
   "execution_count": null,
   "id": "5",
   "metadata": {},
   "outputs": [],
   "source": [
    "m = PowerLaw()\n",
    "m"
   ]
  },
  {
   "cell_type": "markdown",
   "id": "6",
   "metadata": {},
   "source": [
    "The string representation of the model shows its name along with its model type,\n",
    "the components and corresponding parameters. We can see that the parameters are\n",
    "initialized with default values, bounds, and the prior distribution.\n",
    "We will discuss how to configure the default values, bounds, and priors of\n",
    "these parameters in the [parameter interface](#parameter-interface) section."
   ]
  },
  {
   "cell_type": "markdown",
   "id": "7",
   "metadata": {},
   "source": [
    "Next, we can create a new model by modifying the power-law model with a photoelectric absorption component [`PhAbs`](#elisa.models.mul.PhAbs). We first create the absorption model along with the `angr` abundance table and the `vern` photoelectric cross-section."
   ]
  },
  {
   "cell_type": "code",
   "execution_count": null,
   "id": "8",
   "metadata": {},
   "outputs": [],
   "source": [
    "phabs = PhAbs(abund='angr', xsect='vern')\n",
    "phabs"
   ]
  },
  {
   "cell_type": "markdown",
   "id": "9",
   "metadata": {},
   "source": [
    "Note that [`PhAbs`](#elisa.models.mul.PhAbs) uses `angr` abundance and `vern`\n",
    "cross-section by default, and thus ``PhAbs(abund='angr', xsect='vern')`` is\n",
    "equivalent to ``PhAbs()``.\n",
    "\n",
    "Then, we can create a new model by multiplying the power-law model with the\n",
    "photoelectric absorption component:"
   ]
  },
  {
   "cell_type": "code",
   "execution_count": null,
   "id": "10",
   "metadata": {},
   "outputs": [],
   "source": [
    "m2 = phabs * PowerLaw()\n",
    "m2"
   ]
  },
  {
   "cell_type": "markdown",
   "id": "11",
   "metadata": {},
   "source": [
    "Assume the model is for an extragalactic source with a redshift measurement\n",
    "like $z=1.5$, we convolve the photon flux model with [`ZAShift`](#elisa.models.conv.ZAShift)\n",
    "to account for the redshift. We first create the redshift component,"
   ]
  },
  {
   "cell_type": "code",
   "execution_count": null,
   "id": "12",
   "metadata": {},
   "outputs": [],
   "source": [
    "redshift = ZAShift(z=1.5)\n",
    "redshift"
   ]
  },
  {
   "cell_type": "markdown",
   "id": "13",
   "metadata": {},
   "source": [
    "We can see that the redshift parameter is fixed to 1.5. Now we can create a new\n",
    "model by convolving the previous model with the redshift component:"
   ]
  },
  {
   "cell_type": "code",
   "execution_count": null,
   "id": "14",
   "metadata": {},
   "outputs": [],
   "source": [
    "m3 = redshift(m2)\n",
    "m3"
   ]
  },
  {
   "cell_type": "markdown",
   "id": "15",
   "metadata": {},
   "source": [
    "The model is now a power-law model with photoelectric absorption, and further\n",
    "modified by the redshift.\n",
    "\n",
    "Note that the same model can be created with a single line code:"
   ]
  },
  {
   "cell_type": "code",
   "execution_count": null,
   "id": "16",
   "metadata": {},
   "outputs": [],
   "source": [
    "m4 = ZAShift(z=1.5)(PhAbs() * PowerLaw())\n",
    "m4"
   ]
  },
  {
   "cell_type": "markdown",
   "id": "17",
   "metadata": {},
   "source": [
    "Now let's have a look at the spectral shape of the model we just built,"
   ]
  },
  {
   "cell_type": "code",
   "execution_count": null,
   "id": "18",
   "metadata": {},
   "outputs": [],
   "source": [
    "import matplotlib.pyplot as plt\n",
    "import numpy as np\n",
    "\n",
    "plt.rcParams['axes.formatter.min_exponent'] = 3\n",
    "\n",
    "# Compile the model and get CompiledModel instance\n",
    "compiled_model = m4.compile()\n",
    "\n",
    "# Create a photon energy grid used to evaluate the model\n",
    "photon_egrid = np.linspace(0.3, 15.0, 1000)\n",
    "egrid_mid = 0.5 * (photon_egrid[:-1] + photon_egrid[1:])\n",
    "\n",
    "# Evaluate the model with the default parameters\n",
    "# photon flux N(E) [s^-1 cm^-2 keV^-1]\n",
    "ne = compiled_model.ne(photon_egrid)\n",
    "\n",
    "# You can also evaluate the model with custom\n",
    "# parameters, by specifying either a full set\n",
    "# or a subset of parameters to CompiledModel.ne\n",
    "custom_params = {'PowerLaw.alpha': 2.0}\n",
    "ne2 = compiled_model.ne(photon_egrid, params=custom_params)\n",
    "\n",
    "ne3 = compiled_model.ne(photon_egrid, params={'ZAShift.z': 0.0})\n",
    "\n",
    "# For Fv or vFv plot, we can use ene and eene\n",
    "# ene = compiled_model.ene(photon_egrid)\n",
    "# eene = compiled_model.eene(photon_egrid)\n",
    "\n",
    "plt.step(egrid_mid, ne, label='default')\n",
    "plt.step(egrid_mid, ne2, label='alpha=2.0')\n",
    "plt.step(egrid_mid, ne3, label='z=0.0')\n",
    "plt.legend()\n",
    "plt.title(m4.name)\n",
    "plt.xlabel('Energy [keV]')\n",
    "plt.ylabel('$N_E$ [ph cm$^{-2}$ s$^{-1}$ keV$^{-1}$]')\n",
    "plt.xscale('log')\n",
    "plt.yscale('log')"
   ]
  },
  {
   "cell_type": "markdown",
   "id": "19",
   "metadata": {},
   "source": [
    "Great! We have successfully built a model and inspected its spectral shape.\n",
    "You can build any model you want in a similar way."
   ]
  },
  {
   "cell_type": "markdown",
   "id": "20",
   "metadata": {},
   "source": [
    "```{admonition} Tip\n",
    ":class: tip\n",
    "\n",
    "The model's $F_\\nu$ and $\\nu F_\\nu$ values can be accessed by [`CompiledModel`](#elisa.models.model.CompiledModel)'s [`ene`](#elisa.models.model.CompiledModel.ene) and\n",
    "[`eene`](#elisa.models.model.CompiledModel.eene) methods.\n",
    "\n",
    "In addition, [`CompiledModel`](#elisa.models.model.CompiledModel) provides tools\n",
    "to calculate [`flux`](#elisa.models.model.CompiledModel.flux), isotropic-equivalent\n",
    "[`luminosity`](#elisa.models.model.CompiledModel.lumin) and [`energy`](#elisa.models.model.CompiledModel.eiso).\n",
    "```"
   ]
  },
  {
   "cell_type": "markdown",
   "id": "21",
   "metadata": {},
   "source": [
    "### Use XSPEC Models\n",
    "\n",
    "``ELISA`` can make use of ``XSPEC`` [models](https://heasarc.gsfc.nasa.gov/xanadu/xspec/manual/Models.html). Before using them, you need to follow the {ref}`installation` to install the [``xspex``](https://github.com/wcxve/xspex) package, which provides ``JAX`` interface for ``XSPEC`` models.\n",
    "\n",
    "Once [``xspex``](https://github.com/wcxve/xspex) package is installed successfully, import ``ELISA``'s wrapper of ``XSPEC`` models by"
   ]
  },
  {
   "cell_type": "code",
   "execution_count": null,
   "id": "22",
   "metadata": {},
   "outputs": [],
   "source": [
    "from elisa.models import xs"
   ]
  },
  {
   "cell_type": "markdown",
   "id": "23",
   "metadata": {},
   "source": [
    "We can build a model combining models from both ``ELISA`` and ``XSPEC``.\n",
    "For examle,"
   ]
  },
  {
   "cell_type": "code",
   "execution_count": null,
   "id": "24",
   "metadata": {},
   "outputs": [],
   "source": [
    "m5 = TBAbs() * xs.apec()\n",
    "m5"
   ]
  },
  {
   "cell_type": "code",
   "execution_count": null,
   "id": "25",
   "metadata": {},
   "outputs": [],
   "source": [
    "photon_egrid = np.linspace(0.3, 15.0, 2000)\n",
    "egrid_mid = 0.5 * (photon_egrid[:-1] + photon_egrid[1:])\n",
    "ne = m5.compile().ne(photon_egrid)\n",
    "plt.step(egrid_mid, ne)\n",
    "plt.title(m5.name)\n",
    "plt.xlabel('Energy [keV]')\n",
    "plt.ylabel('$N_E$ [ph cm$^{-2}$ s$^{-1}$ keV$^{-1}$]')\n",
    "plt.xscale('log')\n",
    "plt.yscale('log')"
   ]
  },
  {
   "cell_type": "code",
   "execution_count": null,
   "id": "26",
   "metadata": {},
   "outputs": [],
   "source": [
    "m6 = xs.thcomp()(PowerLaw())\n",
    "m6"
   ]
  },
  {
   "cell_type": "code",
   "execution_count": null,
   "id": "27",
   "metadata": {},
   "outputs": [],
   "source": [
    "photon_egrid = np.linspace(60.0, 90.0, 1000)\n",
    "egrid_mid = 0.5 * (photon_egrid[:-1] + photon_egrid[1:])\n",
    "ne = m6.compile().ne(photon_egrid)\n",
    "plt.step(egrid_mid, ne)\n",
    "plt.title(m6.name)\n",
    "plt.xlabel('Energy [keV]')\n",
    "plt.ylabel('$N_E$ [ph cm$^{-2}$ s$^{-1}$ keV$^{-1}$]')\n",
    "plt.xscale('log')\n",
    "plt.yscale('log')"
   ]
  },
  {
   "cell_type": "markdown",
   "id": "28",
   "metadata": {},
   "source": [
    "### Use Custom Models\n",
    "\n",
    "You can also include custom models when building models.\n",
    "See {ref}`custom-model` tutorial for details on how to make a custom model."
   ]
  },
  {
   "cell_type": "markdown",
   "id": "29",
   "metadata": {},
   "source": [
    "### Conclusion\n",
    "\n",
    "By leveraging the model interface of ``ELISA``, you can construct arbitrarily\n",
    "complex spectral models to suit your needs.\n",
    "\n",
    "In the next section, we will discuss the parameter configuration for the model."
   ]
  },
  {
   "cell_type": "markdown",
   "id": "30",
   "metadata": {},
   "source": [
    "(parameter-interface)=\n",
    "## The Parameter Interface\n",
    "\n",
    "``ELISA`` provide an intuitive way to configure the parameters of the model\n",
    "components.\n",
    "\n",
    "As we have seen in the previous section, the model components have parameters\n",
    "associated with them. These parameters have default values, bounds, and prior\n",
    "distributions defined. Indeed, these parameters are instances of the\n",
    "[`Parameter`](#elisa.models.parameter.Parameter) class."
   ]
  },
  {
   "cell_type": "markdown",
   "id": "31",
   "metadata": {},
   "source": [
    "### The Uniform Parameter\n",
    "\n",
    "When creating a model without specifying the configuration of parameters,\n",
    "[`UniformParameter`](#elisa.models.parameter.UniformParameter) instances are\n",
    "automatically created and assigned to model components.\n",
    "\n",
    "For example, when we initialize a [`PowerLaw`](#elisa.models.add.PowerLaw)\n",
    "simply by ``PowerLaw()``, information is read from the `PowerLaw._config`\n",
    "attribute and passed to the [`UniformParameter`](#elisa.models.parameter.UniformParameter)\n",
    "to create the parameter objects for the power-law model. The information includes\n",
    "the default values, bounds, and flags to indicate whether the parameters are\n",
    "parameterized in logarithmic space and whether to be fixed. This is also the\n",
    "case for other model components."
   ]
  },
  {
   "cell_type": "code",
   "execution_count": null,
   "id": "32",
   "metadata": {},
   "outputs": [],
   "source": [
    "for i in PowerLaw._config:\n",
    "    print(i, end='\\n\\n')"
   ]
  },
  {
   "cell_type": "code",
   "execution_count": null,
   "id": "33",
   "metadata": {},
   "outputs": [],
   "source": [
    "PowerLaw()"
   ]
  },
  {
   "cell_type": "markdown",
   "id": "34",
   "metadata": {},
   "source": [
    "We can see that the configuration of parameters matches the information printed\n",
    "above.\n",
    "\n",
    "Usually, it is fine to use the default configuration. However, you can customize\n",
    "the parameters for your need. For example, you can create [`UniformParameter`](#elisa.models.parameter.Parameter) instances with custom default values and bounds, and then\n",
    "passed to the model constructor:"
   ]
  },
  {
   "cell_type": "code",
   "execution_count": null,
   "id": "35",
   "metadata": {},
   "outputs": [],
   "source": [
    "from elisa import UniformParameter\n",
    "\n",
    "alpha = UniformParameter(\n",
    "    name='alpha', default=2.0, min=0.0, max=5.0, log=False, fixed=False\n",
    ")\n",
    "\n",
    "K = UniformParameter(\n",
    "    name='K', default=10, min=1e-5, max=1e5, log=True, fixed=False\n",
    ")\n",
    "\n",
    "PowerLaw(alpha=alpha, K=K)"
   ]
  },
  {
   "cell_type": "markdown",
   "id": "36",
   "metadata": {},
   "source": [
    "``ELISA`` also provides several convenient ways to set up the [`UniformParameter`](#elisa.models.parameter.UniformParameter) for model components, without the need to create the [`UniformParameter`](#elisa.models.parameter.UniformParameter) instances explicitly:"
   ]
  },
  {
   "cell_type": "markdown",
   "id": "37",
   "metadata": {},
   "source": [
    "Passing size one float sequence to the model constructor will create a [`UniformParameter`](#elisa.models.parameter.UniformParameter) with the float as the default value,"
   ]
  },
  {
   "cell_type": "code",
   "execution_count": null,
   "id": "38",
   "metadata": {},
   "outputs": [],
   "source": [
    "PowerLaw(alpha=[1.7])"
   ]
  },
  {
   "cell_type": "markdown",
   "id": "39",
   "metadata": {},
   "source": [
    "Passing three-sequence will create a [`UniformParameter`](#elisa.models.parameter.UniformParameter) with the first element as the default value, the second and third elements as the minimum and maximum values,"
   ]
  },
  {
   "cell_type": "code",
   "execution_count": null,
   "id": "40",
   "metadata": {},
   "outputs": [],
   "source": [
    "Blackbody(kT=(10, 2, 30), K=[1.1, 1e-5, 1e4])"
   ]
  },
  {
   "cell_type": "markdown",
   "id": "41",
   "metadata": {},
   "source": [
    "Passing a four-sequence will create a [`UniformParameter`](#elisa.models.parameter.UniformParameter) with the first three elements as the default, minimum and maximum values, and the fourth element as the flag to indicate whether the parameter is logarithmically parameterized,"
   ]
  },
  {
   "cell_type": "code",
   "execution_count": null,
   "id": "42",
   "metadata": {},
   "outputs": [],
   "source": [
    "TBAbs(nH=[3.0, 0.01, 10.0, True])"
   ]
  },
  {
   "cell_type": "markdown",
   "id": "43",
   "metadata": {},
   "source": [
    "And finally, passing a float will create a UniformParameter with the float as the default value, and the parameter is fixed to this value,"
   ]
  },
  {
   "cell_type": "code",
   "execution_count": null,
   "id": "44",
   "metadata": {},
   "outputs": [],
   "source": [
    "ZAShift(z=4.2)"
   ]
  },
  {
   "cell_type": "markdown",
   "id": "45",
   "metadata": {},
   "source": [
    "### Other Parameters\n",
    "\n",
    "In addition to the [`UniformParameter`](#elisa.models.parameter.UniformParameter), ``ELISA`` provides three other types of parameters."
   ]
  },
  {
   "cell_type": "markdown",
   "id": "46",
   "metadata": {},
   "source": [
    "#### DistParameter\n",
    "\n",
    "You can create a [`DistParameter`](#elisa.models.parameter.DistParameter) instance\n",
    "by passing a ``NumPyro``'s [probability distribution](https://num.pyro.ai/en/stable/distributions.html)\n",
    "instance. This is useful when you want to use non-uniform priors for parameters\n",
    "in Bayesian analysis. For example, we can create a multiplicative [``Constant``](#elisa.models.mul.Constant) component with a Gaussian prior in $\\mathbb{R^+}$."
   ]
  },
  {
   "cell_type": "code",
   "execution_count": null,
   "id": "47",
   "metadata": {},
   "outputs": [],
   "source": [
    "import numpyro.distributions as dist\n",
    "\n",
    "from elisa import DistParameter\n",
    "\n",
    "f = DistParameter(\n",
    "    name='f',\n",
    "    dist=dist.TruncatedNormal(\n",
    "        loc=1.0,\n",
    "        scale=0.2,\n",
    "        low=0.0,\n",
    "    ),\n",
    "    default=1.0,\n",
    ")\n",
    "Constant(f=f)"
   ]
  },
  {
   "cell_type": "markdown",
   "id": "48",
   "metadata": {},
   "source": [
    "#### ConstantInterval\n",
    "\n",
    "When assigning [`ConstantInterval`](#elisa.models.parameter.ConstantInterval)\n",
    "parameters to a model component, the model will be evaluated according to the\n",
    "following formula:\n",
    "\n",
    "$$\\frac{1}{\\prod_i (b_i - a_i)} \\int f(E, \\vec{\\theta}(\\vec{p}, \\vec{q})) \\, \\mathrm{d} \\vec{p}$$\n",
    "\n",
    "where $f$ is the model function, $\\vec{\\theta}$ is the parameter vector of the\n",
    "model, $\\vec{p}$ is the [`ConstantInterval`](#elisa.models.parameter.ConstantInterval)\n",
    "parameters, $\\vec{q}$ is the other parameters, and $a_i$ and $b_i$ are\n",
    "the intervals given by $\\vec{p}$."
   ]
  },
  {
   "cell_type": "code",
   "execution_count": null,
   "id": "49",
   "metadata": {},
   "outputs": [],
   "source": [
    "from elisa import ConstantInterval\n",
    "\n",
    "alpha = ConstantInterval(\n",
    "    name='alpha',\n",
    "    interval=[1.0, 3.0],\n",
    ")\n",
    "m7 = PowerLaw(alpha=alpha)\n",
    "m7"
   ]
  },
  {
   "cell_type": "code",
   "execution_count": null,
   "id": "50",
   "metadata": {},
   "outputs": [],
   "source": [
    "photon_egrid = np.linspace(0.3, 15.0, 1000)\n",
    "egrid_mid = 0.5 * (photon_egrid[:-1] + photon_egrid[1:])\n",
    "ne = m7.compile().ne(photon_egrid)\n",
    "plt.step(egrid_mid, ne)\n",
    "plt.title(m7.name)\n",
    "plt.xlabel('Energy [keV]')\n",
    "plt.ylabel('$N_E$ [ph cm$^{-2}$ s$^{-1}$ keV$^{-1}$]')\n",
    "plt.xscale('log')\n",
    "plt.yscale('log')"
   ]
  },
  {
   "cell_type": "markdown",
   "id": "51",
   "metadata": {},
   "source": [
    "#### CompositeParameter\n",
    "\n",
    "[`CompositeParameter`](#elisa.models.parameter.CompositeParameter) combines\n",
    "multiple parameters into a single parameter. The value of the composite\n",
    "parameter is calculated by a user-defined function that takes the values of\n",
    "the constituent parameters as input. Note that the function must be ``JAX``\n",
    "compatible.\n",
    "\n",
    "It is the key for linking parameters across different model components. For\n",
    "example, we can create a double [`Blackbody`](#elisa.models.add.Blackbody)\n",
    "model, forcing the temperature of one component to be smaller than that of the\n",
    "other,"
   ]
  },
  {
   "cell_type": "code",
   "execution_count": null,
   "id": "52",
   "metadata": {},
   "outputs": [],
   "source": [
    "import jax.numpy as jnp\n",
    "\n",
    "from elisa import CompositeParameter\n",
    "\n",
    "# Define the temperature parameter of the first blackbody\n",
    "kT1 = UniformParameter(\n",
    "    name='kT',\n",
    "    default=10.0,\n",
    "    min=0.1,\n",
    "    max=150.0,\n",
    ")\n",
    "\n",
    "# Define a factor lies in [0.01, 1.0]\n",
    "f = UniformParameter(\n",
    "    name='f',\n",
    "    default=0.2,\n",
    "    min=0.01,\n",
    "    max=1.0,\n",
    ")\n",
    "\n",
    "# Use CompositeParameter to define the temperature\n",
    "# parameter of the second Blackbody, so that it is\n",
    "# always smaller than kT1\n",
    "kT2 = CompositeParameter(\n",
    "    params=[f, kT1],\n",
    "    op=lambda x, y: jnp.multiply(x, y),  # x * y also works\n",
    "    op_name='{} * {}',\n",
    ")\n",
    "m8 = Blackbody(kT=kT1) + Blackbody(kT=kT2)\n",
    "m8"
   ]
  },
  {
   "cell_type": "code",
   "execution_count": null,
   "id": "53",
   "metadata": {},
   "outputs": [],
   "source": [
    "photon_egrid = np.linspace(1, 500.0, 1000)\n",
    "egrid_mid = 0.5 * (photon_egrid[:-1] + photon_egrid[1:])\n",
    "compiled_model = m8.compile()\n",
    "vFv = compiled_model.eene(photon_egrid)\n",
    "bb1 = compiled_model.eene(photon_egrid, params={'Blackbody_2.K': 0.0})\n",
    "bb2 = compiled_model.eene(photon_egrid, params={'Blackbody.K': 0.0})\n",
    "plt.step(egrid_mid, vFv, label='total')\n",
    "plt.step(egrid_mid, bb1, ls=':', label='Blackbody')\n",
    "plt.step(egrid_mid, bb2, ls=':', label='Blackbody_2')\n",
    "plt.legend()\n",
    "plt.title(m8.name)\n",
    "plt.xlabel('Energy [keV]')\n",
    "plt.ylabel(r'$\\nu F_\\nu$ [erg cm$^{-2}$ s$^{-1}$]')\n",
    "plt.xscale('log')\n",
    "plt.yscale('log')"
   ]
  },
  {
   "cell_type": "markdown",
   "id": "54",
   "metadata": {},
   "source": [
    "We can create a series of power-law models, whose photon indices are evolving\n",
    "from hard to soft,"
   ]
  },
  {
   "cell_type": "code",
   "execution_count": null,
   "id": "55",
   "metadata": {},
   "outputs": [],
   "source": [
    "# Create 10 time bins\n",
    "n = 5\n",
    "time_grid = np.linspace(0.0, 5.0, n + 1)\n",
    "\n",
    "# The initial photon index\n",
    "a0 = UniformParameter(\n",
    "    name='a0',\n",
    "    default=0.5,\n",
    "    min=0.1,\n",
    "    max=1.0,\n",
    ")\n",
    "\n",
    "# The decreasing rate of photon index\n",
    "rate = UniformParameter(\n",
    "    name='r',\n",
    "    default=1.0,\n",
    "    min=0.5,\n",
    "    max=2.0,\n",
    ")\n",
    "\n",
    "models = []\n",
    "for i in range(n):\n",
    "    t = ConstantInterval('t', time_grid[i : i + 2])\n",
    "    alpha = a0 + t * rate\n",
    "    models.append(PowerLaw(alpha=alpha))\n",
    "models[0]"
   ]
  },
  {
   "cell_type": "code",
   "execution_count": null,
   "id": "56",
   "metadata": {},
   "outputs": [],
   "source": [
    "models[1]"
   ]
  },
  {
   "cell_type": "markdown",
   "id": "57",
   "metadata": {},
   "source": [
    "Note the a0 and r parameters are shared among models."
   ]
  },
  {
   "cell_type": "code",
   "execution_count": null,
   "id": "58",
   "metadata": {},
   "outputs": [],
   "source": [
    "# Plot with default parameters values\n",
    "photon_egrid = np.geomspace(0.1, 10.0, 300)\n",
    "egrid_mid = 0.5 * (photon_egrid[:-1] + photon_egrid[1:])\n",
    "for i in range(n):\n",
    "    ne = models[i].compile().ne(photon_egrid)\n",
    "    label = f'[{time_grid[i]}, {time_grid[i + 1]}] s'\n",
    "    plt.step(egrid_mid, ne, label=label)\n",
    "plt.legend()\n",
    "plt.xlabel('Energy [keV]')\n",
    "plt.ylabel('$N_E$ [ph cm$^{-2}$ s$^{-1}$ keV$^{-1}$]')\n",
    "plt.xscale('log')\n",
    "plt.yscale('log')"
   ]
  },
  {
   "cell_type": "code",
   "execution_count": null,
   "id": "59",
   "metadata": {},
   "outputs": [],
   "source": [
    "# Plot with a0=0, r=0.2\n",
    "params = {'a0': 0, 'r': 1.5}\n",
    "photon_egrid = np.geomspace(0.1, 10.0, 300)\n",
    "egrid_mid = 0.5 * (photon_egrid[:-1] + photon_egrid[1:])\n",
    "for i in range(n):\n",
    "    ne = models[i].compile().ne(photon_egrid, params=params)\n",
    "    label = f'[{time_grid[i]}, {time_grid[i + 1]}] s'\n",
    "    plt.step(egrid_mid, ne, label=label)\n",
    "plt.legend()\n",
    "plt.xlabel('Energy [keV]')\n",
    "plt.ylabel('$N_E$ [ph cm$^{-2}$ s$^{-1}$ keV$^{-1}$]')\n",
    "plt.xscale('log')\n",
    "plt.yscale('log')"
   ]
  },
  {
   "cell_type": "markdown",
   "id": "60",
   "metadata": {},
   "source": [
    "When generating the `alpha` parameter for power-law model of each time slice,\n",
    "we set ``alpha = a0 + t * rate``, rather than using the [`CompositeParameter`](#elisa.models.parameter.CompositeParameter). This is because ``ELISA`` provides a set of arithmetic\n",
    "operators to create [`CompositeParameter`](#elisa.models.parameter.CompositeParameter)\n",
    "in a more straightforward way.\n",
    "We can use these operators on two parameters (including composite ones):\n",
    "\n",
    "- `+`: sum\n",
    "- `-`: subtraction\n",
    "- `*`: multiplication\n",
    "- `/`: division\n",
    "- `**`: power\n",
    "\n",
    "For example,"
   ]
  },
  {
   "cell_type": "code",
   "execution_count": null,
   "id": "61",
   "metadata": {},
   "outputs": [],
   "source": [
    "x = UniformParameter('x', 5, 1, 10)\n",
    "y = UniformParameter('y', -2, -5, 10)\n",
    "z = x**y\n",
    "print(type(z).__name__, z)"
   ]
  },
  {
   "cell_type": "markdown",
   "id": "62",
   "metadata": {},
   "source": [
    "### Manipulating Parameters of Components\n",
    "\n",
    "We can manipulate the parameters of the components after the model is created."
   ]
  },
  {
   "cell_type": "code",
   "execution_count": null,
   "id": "63",
   "metadata": {},
   "outputs": [],
   "source": [
    "m9 = PowerLaw()\n",
    "\n",
    "# We first get the powerlaw component,\n",
    "# then get K parameter of the component.\n",
    "# Note that K is a UniformParameter by default,\n",
    "# with five attributes: default, min, max, log, and fixed.\n",
    "\n",
    "K = m9.PowerLaw.K\n",
    "print('K', type(K).__name__, K.default, K.min, K.max, K.log, K.fixed, sep=', ')\n",
    "m9"
   ]
  },
  {
   "cell_type": "code",
   "execution_count": null,
   "id": "64",
   "metadata": {},
   "outputs": [],
   "source": [
    "# Modify the K parameter\n",
    "m9.PowerLaw.K.default = 1.5\n",
    "m9['PowerLaw'].K.min = 0.1\n",
    "m9.PowerLaw['K'].max = 5.0\n",
    "m9['PowerLaw']['K'].log = True\n",
    "m9"
   ]
  },
  {
   "cell_type": "code",
   "execution_count": null,
   "id": "65",
   "metadata": {},
   "outputs": [],
   "source": [
    "# Set K to DistParameter with LogNormal distribution\n",
    "m9.PowerLaw.K = DistParameter(\n",
    "    name='K',\n",
    "    dist=dist.LogNormal(10, 1),\n",
    "    default=10,\n",
    ")\n",
    "m9"
   ]
  },
  {
   "cell_type": "markdown",
   "id": "66",
   "metadata": {},
   "source": [
    "A more convenient method to create a model with two blackbodies, as shown in the example above, can be as follows:"
   ]
  },
  {
   "cell_type": "code",
   "execution_count": null,
   "id": "67",
   "metadata": {},
   "outputs": [],
   "source": [
    "f = UniformParameter('f', 0.5, 0.01, 1.0)\n",
    "m10 = Blackbody() + Blackbody()\n",
    "m10.Blackbody_2.kT = f * m10.Blackbody.kT\n",
    "m10"
   ]
  },
  {
   "cell_type": "markdown",
   "id": "68",
   "metadata": {
    "editable": true,
    "slideshow": {
     "slide_type": ""
    },
    "tags": []
   },
   "source": [
    "### Conclusion\n",
    "\n",
    "The parameter interface of ``ELISA`` provides versatile approaches to configuring\n",
    "the parameters of model components. You can use parameters with default\n",
    "configuration, or create parameters with custom values, bounds, and priors.\n",
    "Additionally, linking parameters across various model components is supported."
   ]
  }
 ],
 "metadata": {
  "kernelspec": {
   "display_name": "Python 3",
   "language": "python",
   "name": "python3"
  },
  "language_info": {
   "codemirror_mode": {
    "name": "ipython",
    "version": 3
   },
   "file_extension": ".py",
   "mimetype": "text/x-python",
   "name": "python",
   "nbconvert_exporter": "python",
   "pygments_lexer": "ipython3",
   "version": "3.10.18"
  }
 },
 "nbformat": 4,
 "nbformat_minor": 5
}
