{
 "cells": [
  {
   "cell_type": "markdown",
   "id": "0",
   "metadata": {},
   "source": [
    "(quick-start)="
   ]
  },
  {
   "cell_type": "markdown",
   "id": "1",
   "metadata": {
    "editable": true,
    "slideshow": {
     "slide_type": ""
    },
    "tags": []
   },
   "source": [
    "# A Quick Start Tutorial\n",
    "\n",
    "This tutorial provides a quick start guide to using ``ELISA`` to fit a spectral model to X-ray spectral data. The tutorial is divided into three sections:\n",
    "\n",
    "1. Load Data and Define Spectral Model\n",
    "2. Bayesian Fit\n",
    "3. Maximum Likelihood Fit\n",
    "\n",
    "The data used in this tutorial is from the Insight-HXMT observation of the Crab Nebula. The spectra are obtained by the Low Energy (LE), the Medium Energy (ME), and the High Energy (HE) telescopes. The spectral model used in this tutorial is a power-law model modified by a photoelectric absorption.\n",
    "\n",
    "The tutorial demonstrates how to fit the spectral model to the data using both Bayesian and Maximum Likelihood methods."
   ]
  },
  {
   "cell_type": "markdown",
   "id": "2",
   "metadata": {},
   "source": [
    "## 1. Load Data and Define Spectral Model"
   ]
  },
  {
   "cell_type": "code",
   "execution_count": null,
   "id": "3",
   "metadata": {},
   "outputs": [],
   "source": [
    "from elisa import BayesFit, Data, MaxLikeFit\n",
    "from elisa.models import PhAbs, PowerLaw\n",
    "\n",
    "LE = Data(\n",
    "    erange=[1.5, 10],\n",
    "    specfile='data/P011160500104_LE.pi',\n",
    "    backfile='data/P011160500104_LE.bak',\n",
    "    respfile='data/P011160500104_LE.rsp',\n",
    "    group='opt',\n",
    ")\n",
    "\n",
    "ME = Data(\n",
    "    erange=[10, 35],\n",
    "    specfile='data/P011160500104_ME.pi',\n",
    "    backfile='data/P011160500104_ME.bak',\n",
    "    respfile='data/P011160500104_ME.rsp',\n",
    "    group='opt',\n",
    ")\n",
    "\n",
    "HE = Data(\n",
    "    erange=[28, 250],\n",
    "    specfile='data/P011160500104_HE.pi',\n",
    "    backfile='data/P011160500104_HE.bak',\n",
    "    respfile='data/P011160500104_HE.rsp',\n",
    "    group='opt',\n",
    ")\n",
    "\n",
    "data = [LE, ME, HE]\n",
    "\n",
    "model = PhAbs() * PowerLaw()"
   ]
  },
  {
   "cell_type": "markdown",
   "id": "4",
   "metadata": {},
   "source": [
    "## 2. Bayesian Fit"
   ]
  },
  {
   "cell_type": "code",
   "execution_count": null,
   "id": "5",
   "metadata": {},
   "outputs": [],
   "source": [
    "fit = BayesFit(data, model)\n",
    "fit"
   ]
  },
  {
   "cell_type": "markdown",
   "id": "6",
   "metadata": {},
   "source": [
    "### Run the No-U-Turn Sampler"
   ]
  },
  {
   "cell_type": "code",
   "execution_count": null,
   "id": "7",
   "metadata": {},
   "outputs": [],
   "source": [
    "posterior = fit.nuts(progress=False)\n",
    "posterior"
   ]
  },
  {
   "cell_type": "markdown",
   "id": "8",
   "metadata": {},
   "source": [
    "### Plot the Trace of Sampler"
   ]
  },
  {
   "cell_type": "code",
   "execution_count": null,
   "id": "9",
   "metadata": {},
   "outputs": [],
   "source": [
    "fig = posterior.plot.plot_trace()"
   ]
  },
  {
   "cell_type": "markdown",
   "id": "10",
   "metadata": {},
   "source": [
    "### Plot of Spectral Fit and Residuals"
   ]
  },
  {
   "cell_type": "code",
   "execution_count": null,
   "id": "11",
   "metadata": {},
   "outputs": [],
   "source": [
    "fig = posterior.plot()"
   ]
  },
  {
   "cell_type": "markdown",
   "id": "12",
   "metadata": {},
   "source": [
    "### Goodness of Fit: Quantile-Quantile Plot"
   ]
  },
  {
   "cell_type": "code",
   "execution_count": null,
   "id": "13",
   "metadata": {},
   "outputs": [],
   "source": [
    "fig = posterior.plot.plot_qq(detrend=False)"
   ]
  },
  {
   "cell_type": "markdown",
   "id": "14",
   "metadata": {},
   "source": [
    "### Goodness of Fit: Probability Integral Transform ECDF Plot"
   ]
  },
  {
   "cell_type": "code",
   "execution_count": null,
   "id": "15",
   "metadata": {},
   "outputs": [],
   "source": [
    "fig = posterior.plot.plot_pit(detrend=False)"
   ]
  },
  {
   "cell_type": "markdown",
   "id": "16",
   "metadata": {},
   "source": [
    "### Plot Marginal Posterior Distribution"
   ]
  },
  {
   "cell_type": "code",
   "execution_count": null,
   "id": "17",
   "metadata": {},
   "outputs": [],
   "source": [
    "fig = posterior.plot.plot_corner()"
   ]
  },
  {
   "cell_type": "markdown",
   "id": "18",
   "metadata": {},
   "source": [
    "### Calculate Credible Intervals of Parameters"
   ]
  },
  {
   "cell_type": "code",
   "execution_count": null,
   "id": "19",
   "metadata": {},
   "outputs": [],
   "source": [
    "ci = posterior.ci()\n",
    "ci"
   ]
  },
  {
   "cell_type": "code",
   "execution_count": null,
   "id": "20",
   "metadata": {},
   "outputs": [],
   "source": [
    "ci.median"
   ]
  },
  {
   "cell_type": "code",
   "execution_count": null,
   "id": "21",
   "metadata": {},
   "outputs": [],
   "source": [
    "ci.errors"
   ]
  },
  {
   "cell_type": "markdown",
   "id": "22",
   "metadata": {},
   "source": [
    "## 3. Maximum Likelihood Fit"
   ]
  },
  {
   "cell_type": "code",
   "execution_count": null,
   "id": "23",
   "metadata": {},
   "outputs": [],
   "source": [
    "model.PhAbs.nH.default = 0.35\n",
    "fit2 = MaxLikeFit([LE, ME, HE], model)\n",
    "fit2"
   ]
  },
  {
   "cell_type": "markdown",
   "id": "24",
   "metadata": {},
   "source": [
    "### Use Levenberg-Marquardt algorithm to find the MLE"
   ]
  },
  {
   "cell_type": "code",
   "execution_count": null,
   "id": "25",
   "metadata": {},
   "outputs": [],
   "source": [
    "mle = fit2.mle(method='lm')\n",
    "mle"
   ]
  },
  {
   "cell_type": "markdown",
   "id": "26",
   "metadata": {},
   "source": [
    "### Plot of Spectral Fit and Residuals"
   ]
  },
  {
   "cell_type": "code",
   "execution_count": null,
   "id": "27",
   "metadata": {},
   "outputs": [],
   "source": [
    "fig = mle.plot()"
   ]
  },
  {
   "cell_type": "markdown",
   "id": "28",
   "metadata": {},
   "source": [
    "### Goodness of Fit: Quantile-Quantile Plot"
   ]
  },
  {
   "cell_type": "code",
   "execution_count": null,
   "id": "29",
   "metadata": {},
   "outputs": [],
   "source": [
    "fig = mle.plot.plot_qq(detrend=False)"
   ]
  },
  {
   "cell_type": "markdown",
   "id": "30",
   "metadata": {},
   "source": [
    "### Goodness of Fit: Probability Integral Transform ECDF Plot"
   ]
  },
  {
   "cell_type": "code",
   "execution_count": null,
   "id": "31",
   "metadata": {},
   "outputs": [],
   "source": [
    "fig = mle.plot.plot_pit(detrend=False)"
   ]
  },
  {
   "cell_type": "markdown",
   "id": "32",
   "metadata": {},
   "source": [
    "### Calculate Confidence Intervals of Parameters"
   ]
  },
  {
   "cell_type": "code",
   "execution_count": null,
   "id": "33",
   "metadata": {},
   "outputs": [],
   "source": [
    "ci = mle.ci()\n",
    "ci"
   ]
  },
  {
   "cell_type": "code",
   "execution_count": null,
   "id": "34",
   "metadata": {},
   "outputs": [],
   "source": [
    "ci.mle"
   ]
  },
  {
   "cell_type": "code",
   "execution_count": null,
   "id": "35",
   "metadata": {},
   "outputs": [],
   "source": [
    "ci.errors"
   ]
  }
 ],
 "metadata": {
  "kernelspec": {
   "display_name": "Python 3 (ipykernel)",
   "language": "python",
   "name": "python3"
  },
  "language_info": {
   "codemirror_mode": {
    "name": "ipython",
    "version": 3
   },
   "file_extension": ".py",
   "mimetype": "text/x-python",
   "name": "python",
   "nbconvert_exporter": "python",
   "pygments_lexer": "ipython3",
   "version": "3.10.12"
  }
 },
 "nbformat": 4,
 "nbformat_minor": 5
}
